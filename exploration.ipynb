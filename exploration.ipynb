{
 "cells": [
  {
   "attachments": {},
   "cell_type": "markdown",
   "metadata": {},
   "source": [
    "## Paquetes"
   ]
  },
  {
   "cell_type": "code",
   "execution_count": 1,
   "metadata": {},
   "outputs": [],
   "source": [
    "import numpy as np\n",
    "import matplotlib.pyplot as plt\n",
    "import pandas as pd\n",
    "from datetime import datetime\n",
    "from dateutil import relativedelta\n",
    "from sklearn.metrics import mean_squared_error\n",
    "from sklearn.metrics import mean_absolute_error\n",
    "from sklearn.metrics import mean_absolute_percentage_error\n",
    "import math"
   ]
  },
  {
   "attachments": {},
   "cell_type": "markdown",
   "metadata": {},
   "source": [
    "## Datasets"
   ]
  },
  {
   "cell_type": "code",
   "execution_count": 3,
   "metadata": {},
   "outputs": [],
   "source": [
    "datasets_path = \"/home/francisco/Documents/Practica/Time-Series-Library/datasets/\""
   ]
  },
  {
   "cell_type": "code",
   "execution_count": 4,
   "metadata": {},
   "outputs": [],
   "source": [
    "coffee_df  = pd.read_csv(datasets_path+ 'Coffee_500Exog.csv')\n",
    "coffee_results_df=  pd.read_csv(datasets_path+ 'Coffee_500Exog_results.csv')\n",
    "sugar_df  = pd.read_csv(datasets_path+ 'Sugar_500Exog.csv')\n",
    "sugar_results_df =  pd.read_csv(datasets_path+ 'Sugar_500Exog_results.csv')\n"
   ]
  },
  {
   "cell_type": "code",
   "execution_count": 141,
   "metadata": {},
   "outputs": [],
   "source": [
    "results_path = \"/home/francisco/Documents/Practica/Time-Series-Library/results/long_term_forecast_coffee_TimesNet_custom_test_data.csv_bs128_lrtypeC_ftMS_sl52_ll26_pl52_dm128_nh8_el3_dl2_df64_fc3_ebfixed_dtTrue_Exp_0/\""
   ]
  },
  {
   "attachments": {},
   "cell_type": "markdown",
   "metadata": {},
   "source": [
    "## Funciones utiles"
   ]
  },
  {
   "cell_type": "code",
   "execution_count": null,
   "metadata": {},
   "outputs": [],
   "source": [
    "def load_squeeze(path):\n",
    "    pred = np.load(results_path+'pred.npy')\n",
    "    true = np.load(results_path+'true.npy')\n",
    "    dates = np.load(results_path+'dates.npy')\n",
    "    preds = np.squeeze(pred)\n",
    "    trues = np.squeeze(true)\n",
    "    dates = np.squeeze(dates)\n",
    "    return dates,trues,preds"
   ]
  },
  {
   "cell_type": "code",
   "execution_count": 144,
   "metadata": {},
   "outputs": [],
   "source": [
    "def create_df(n,dates,trues,preds,xrnn,df):\n",
    "    #Dataframe predicciones\n",
    "    date_s = pd.Series(dates[n])\n",
    "    date = pd.to_datetime(date_s, format='%Y%m%d')\n",
    "    true_df = pd.DataFrame()\n",
    "    pred_df = pd.DataFrame()\n",
    "    date_df = date.to_frame()\n",
    "    times_df = pd.concat([date_df,true_df,pred_df],axis=1)\n",
    "    times_df.columns = ['date', 'true', 'times' ]\n",
    "    times_df.set_index('date',inplace=True)\n",
    "    ## Dataframe xrnn\n",
    "    xrnn = coffee_results_df.iloc[:,[0,3]]\n",
    "    xrnn.set_index('date',inplace=True)\n",
    "    xrnn.index = pd.to_datetime(xrnn.index)\n",
    "    ## Dataframe timesnet + xrnn\n",
    "    total_df = times_df.join(xrnn,on='date')\n",
    "    total_df.columns = [ 'True', 'Times', 'Xrnn']\n",
    "    ## Dataframe contexto\n",
    "    context = coffee_df.iloc[:,[0,2]]\n",
    "    context.set_index('date',inplace=True)\n",
    "    context.index = pd.to_datetime(context.index)\n",
    "    ## Dataframe timesnet + xrnn + contexto\n",
    "    with_context =context.join(total_df, on='date')\n",
    "    return with_context,total_df"
   ]
  },
  {
   "cell_type": "code",
   "execution_count": null,
   "metadata": {},
   "outputs": [],
   "source": [
    "\n",
    "def calc_metrics(y_actual, y_predicted):\n",
    "    MSE = mean_squared_error(y_actual, y_predicted)\n",
    "    RMSE = math.sqrt(MSE)\n",
    "    MAE = mean_absolute_error(y_actual, y_predicted)\n",
    "    MAPE = mean_absolute_percentage_error(y_actual, y_predicted)\n",
    "    print(\"MSE:{MSE}---RMSE{RMSE}---MAE{MAE}---MAPE{MAPE}\")"
   ]
  },
  {
   "attachments": {},
   "cell_type": "markdown",
   "metadata": {},
   "source": [
    "# Resultados Cafe"
   ]
  },
  {
   "attachments": {},
   "cell_type": "markdown",
   "metadata": {},
   "source": [
    "## Original\n",
    "\n",
    "- Resultados obtenidos al utilizar el dataset de cafe para entrenamiento y el dataset de cafe para pruebas."
   ]
  },
  {
   "cell_type": "code",
   "execution_count": null,
   "metadata": {},
   "outputs": [],
   "source": [
    "path_coffee_test_results = ''"
   ]
  },
  {
   "cell_type": "code",
   "execution_count": 2,
   "metadata": {},
   "outputs": [
    {
     "ename": "SyntaxError",
     "evalue": "invalid syntax (3358774786.py, line 3)",
     "output_type": "error",
     "traceback": [
      "\u001b[0;36m  Cell \u001b[0;32mIn[2], line 3\u001b[0;36m\u001b[0m\n\u001b[0;31m    ``\u001b[0m\n\u001b[0m    ^\u001b[0m\n\u001b[0;31mSyntaxError\u001b[0m\u001b[0;31m:\u001b[0m invalid syntax\n"
     ]
    }
   ],
   "source": [
    "virtual_present_coffee = '2021-12-13'\n",
    "virtual_present_coffee = datetime.strptime(virtual_present_coffee, \"%Y-%m-%d\")\n",
    "test_start_coffee = virtual_present_coffee - relativedelta.relativedelta(weeks=52)"
   ]
  },
  {
   "cell_type": "code",
   "execution_count": null,
   "metadata": {},
   "outputs": [],
   "source": [
    "date,true,pred = load_squeeze(path_coffee_test_results)"
   ]
  },
  {
   "cell_type": "code",
   "execution_count": null,
   "metadata": {},
   "outputs": [],
   "source": [
    "coffee_test_result = create_df(0,date,true,pred,coffee_results_df,coffee_df)"
   ]
  },
  {
   "cell_type": "code",
   "execution_count": 157,
   "metadata": {},
   "outputs": [],
   "source": [
    "w_context,wo_context = coffee_test_result[coffee_test_result.index>test_start_coffee]"
   ]
  },
  {
   "cell_type": "code",
   "execution_count": null,
   "metadata": {},
   "outputs": [],
   "source": [
    "wo_context.plot()\n"
   ]
  },
  {
   "cell_type": "code",
   "execution_count": null,
   "metadata": {},
   "outputs": [],
   "source": [
    "w_context.plot()"
   ]
  },
  {
   "cell_type": "code",
   "execution_count": null,
   "metadata": {},
   "outputs": [],
   "source": [
    "calc_metrics(true,pred)"
   ]
  },
  {
   "attachments": {},
   "cell_type": "markdown",
   "metadata": {},
   "source": [
    "## Prediccion azucar \n",
    "\n",
    "- Prediccion realizada por el modelo de cafe al utilizar el dataset de azucar."
   ]
  },
  {
   "cell_type": "code",
   "execution_count": null,
   "metadata": {},
   "outputs": [],
   "source": [
    "path_az_test_results = ''"
   ]
  },
  {
   "cell_type": "code",
   "execution_count": null,
   "metadata": {},
   "outputs": [],
   "source": [
    "virtual_present_az = '2022-04-04'\n",
    "virtual_present_az = datetime.strptime(virtual_present_az, \"%Y-%m-%d\")\n",
    "\n",
    "virtual_present_az = virtual_present_az - relativedelta.relativedelta(weeks=1)\n",
    "test_start_az = virtual_present_az - relativedelta.relativedelta(weeks=52)"
   ]
  },
  {
   "cell_type": "code",
   "execution_count": null,
   "metadata": {},
   "outputs": [],
   "source": [
    "date,true,pred = load_squeeze(path_coffee_test_results)"
   ]
  },
  {
   "cell_type": "code",
   "execution_count": null,
   "metadata": {},
   "outputs": [],
   "source": [
    "az_test_result = create_df(0,date,true,pred,sugar_results_df,sugar_df)"
   ]
  },
  {
   "cell_type": "code",
   "execution_count": null,
   "metadata": {},
   "outputs": [],
   "source": [
    "w_context,wo_context = az_test_result[az_test_result.index>test_start_az]"
   ]
  },
  {
   "cell_type": "code",
   "execution_count": null,
   "metadata": {},
   "outputs": [],
   "source": [
    "wo_context.plot()\n"
   ]
  },
  {
   "cell_type": "code",
   "execution_count": null,
   "metadata": {},
   "outputs": [],
   "source": [
    "w_context.plot()"
   ]
  },
  {
   "cell_type": "code",
   "execution_count": null,
   "metadata": {},
   "outputs": [],
   "source": [
    "calc_metrics(true,pred)"
   ]
  },
  {
   "attachments": {},
   "cell_type": "markdown",
   "metadata": {},
   "source": [
    "# Resultados Azucar\n"
   ]
  },
  {
   "attachments": {},
   "cell_type": "markdown",
   "metadata": {},
   "source": [
    "## Original"
   ]
  },
  {
   "attachments": {},
   "cell_type": "markdown",
   "metadata": {},
   "source": [
    "## "
   ]
  },
  {
   "cell_type": "code",
   "execution_count": null,
   "metadata": {},
   "outputs": [],
   "source": [
    "path_az_test_results = ''"
   ]
  },
  {
   "cell_type": "code",
   "execution_count": null,
   "metadata": {},
   "outputs": [],
   "source": [
    "virtual_present_az = '2022-04-04'\n",
    "virtual_present_az = datetime.strptime(virtual_present_az, \"%Y-%m-%d\")\n",
    "\n",
    "virtual_present_az = virtual_present_az - relativedelta.relativedelta(weeks=1)\n",
    "test_start_az = virtual_present_az - relativedelta.relativedelta(weeks=52)"
   ]
  },
  {
   "cell_type": "code",
   "execution_count": null,
   "metadata": {},
   "outputs": [],
   "source": [
    "date,true,pred = load_squeeze(path_coffee_test_results)"
   ]
  },
  {
   "cell_type": "code",
   "execution_count": null,
   "metadata": {},
   "outputs": [],
   "source": [
    "az_test_result = create_df(0,date,true,pred,sugar_results_df,sugar_df)"
   ]
  },
  {
   "cell_type": "code",
   "execution_count": null,
   "metadata": {},
   "outputs": [],
   "source": [
    "w_context,wo_context = az_test_result[az_test_result.index>test_start_az]"
   ]
  },
  {
   "cell_type": "code",
   "execution_count": null,
   "metadata": {},
   "outputs": [],
   "source": [
    "wo_context.plot()"
   ]
  },
  {
   "cell_type": "code",
   "execution_count": null,
   "metadata": {},
   "outputs": [],
   "source": [
    "w_context.plot()"
   ]
  },
  {
   "cell_type": "code",
   "execution_count": null,
   "metadata": {},
   "outputs": [],
   "source": [
    "calc_metrics(true,pred)"
   ]
  },
  {
   "attachments": {},
   "cell_type": "markdown",
   "metadata": {},
   "source": [
    "##  Prediccion cafe"
   ]
  },
  {
   "cell_type": "code",
   "execution_count": null,
   "metadata": {},
   "outputs": [],
   "source": [
    "path_coffee_test_results = ''"
   ]
  },
  {
   "cell_type": "code",
   "execution_count": null,
   "metadata": {},
   "outputs": [],
   "source": [
    "virtual_present_coffee = '2021-12-13'\n",
    "virtual_present_coffee = datetime.strptime(virtual_present_coffee, \"%Y-%m-%d\")\n",
    "test_start_coffee = virtual_present_coffee - relativedelta.relativedelta(weeks=52)"
   ]
  },
  {
   "cell_type": "code",
   "execution_count": null,
   "metadata": {},
   "outputs": [],
   "source": [
    "date,true,pred = load_squeeze(path_coffee_test_results)"
   ]
  },
  {
   "cell_type": "code",
   "execution_count": null,
   "metadata": {},
   "outputs": [],
   "source": [
    "coffee_test_result = create_df(0,date,true,pred,coffee_results_df,coffee_df)"
   ]
  },
  {
   "cell_type": "code",
   "execution_count": null,
   "metadata": {},
   "outputs": [],
   "source": [
    "w_context,wo_context = coffee_test_result[coffee_test_result.index>test_start_coffee]"
   ]
  },
  {
   "cell_type": "code",
   "execution_count": null,
   "metadata": {},
   "outputs": [],
   "source": [
    "wo_context.plot()"
   ]
  },
  {
   "cell_type": "code",
   "execution_count": null,
   "metadata": {},
   "outputs": [],
   "source": [
    "w_context.plot()"
   ]
  },
  {
   "cell_type": "code",
   "execution_count": null,
   "metadata": {},
   "outputs": [],
   "source": [
    "calc_metrics(true,pred)"
   ]
  },
  {
   "attachments": {},
   "cell_type": "markdown",
   "metadata": {},
   "source": [
    "## Proximos experimentos"
   ]
  },
  {
   "attachments": {},
   "cell_type": "markdown",
   "metadata": {},
   "source": [
    "-Revisar las fechas y agregar parametro para guardar experimentes \\\n",
    "-Guardar metricas y generar funciones para cada experimento \\\n",
    "-Probar diferentes presentes virtuales (parametrizando) \\ \n",
    "-Probar con mas datos \\ \n",
    "-Revisar los hiperparametros(dmodel - factor) \\\n",
    "-Probar distintos modelos \n"
   ]
  },
  {
   "attachments": {},
   "cell_type": "markdown",
   "metadata": {},
   "source": []
  }
 ],
 "metadata": {
  "kernelspec": {
   "display_name": "tn",
   "language": "python",
   "name": "python3"
  },
  "language_info": {
   "codemirror_mode": {
    "name": "ipython",
    "version": 3
   },
   "file_extension": ".py",
   "mimetype": "text/x-python",
   "name": "python",
   "nbconvert_exporter": "python",
   "pygments_lexer": "ipython3",
   "version": "3.8.16"
  },
  "orig_nbformat": 4
 },
 "nbformat": 4,
 "nbformat_minor": 2
}
